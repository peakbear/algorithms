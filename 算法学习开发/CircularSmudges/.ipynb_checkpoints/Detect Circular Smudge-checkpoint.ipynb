{
 "cells": [
  {
   "cell_type": "code",
   "execution_count": 1,
   "metadata": {},
   "outputs": [],
   "source": [
    "import imageio\n",
    "import os\n",
    "import numpy as np"
   ]
  },
  {
   "cell_type": "code",
   "execution_count": 2,
   "metadata": {},
   "outputs": [],
   "source": [
    "# configurations\n",
    "raw_image = imageio.imread('G-ex_P100_50deg_exp100_2017-05-18_15h25m02s936ms-1.tif')\n",
    "# modify sensitive value to adjust brightness detection\n",
    "sensitive = 0.995\n",
    "rows, cols = raw_image.shape\n",
    "os.makedirs('output/', exist_ok=True)"
   ]
  },
  {
   "cell_type": "code",
   "execution_count": 3,
   "metadata": {},
   "outputs": [],
   "source": [
    "# increase contrast\n",
    "min = raw_image.min()\n",
    "max = raw_image.max()\n",
    "delta = max - min\n",
    "# use sqrt curve and re-normalise to increase contrast\n",
    "preprocessing_image = pow((raw_image - min) / delta, 2) * max\n",
    "preprocessing_image = preprocessing_image.astype('uint16')\n",
    "preprocessing_image = np.where(preprocessing_image < np.quantile(preprocessing_image, sensitive), min, max)\n",
    "imageio.imwrite('output/preprocessing_image.tif', preprocessing_image)"
   ]
  },
  {
   "cell_type": "code",
   "execution_count": 4,
   "metadata": {},
   "outputs": [],
   "source": [
    "# detect edge\n",
    "# if a pixel is not on a edge, mark it as background\n",
    "image_edge = preprocessing_image.copy()\n",
    "for col in range(1, cols - 1):\n",
    "    for row in range(1, rows - 1):\n",
    "        if preprocessing_image[row, col-1] != min and preprocessing_image[row, col+1] != min and preprocessing_image[row-1, col] != min and preprocessing_image[row+1, col] != min:\n",
    "            image_edge[row, col] = min\n",
    "imageio.imwrite('output/image_edge.tif', image_edge)"
   ]
  },
  {
   "cell_type": "code",
   "execution_count": 5,
   "metadata": {},
   "outputs": [],
   "source": [
    "# detect circle\n",
    "# got the idea from tensorflow, to detect shape using unit detector\n",
    "# TODO, boundry conditions needs to be improved\n",
    "detector = np.array([\n",
    "    [0, 0, 1, 1, 0, 0],\n",
    "    [0, 1, 0, 0, 1, 0],\n",
    "    [1, 0, 0, 0, 0, 1],\n",
    "    [1, 0, 0, 0, 0, 1],\n",
    "    [0, 1, 0, 0, 1, 0],\n",
    "    [0, 0, 1, 1, 0, 0]])\n",
    "\n",
    "detected_image = np.zeros((rows, cols))\n",
    "for col in range(cols - 5):\n",
    "    for row in range(rows - 5):\n",
    "        detected_image[row][col] = np.sum(image_edge[row:row+6, col:col+6] * detector) / 12\n",
    "detected_image = detected_image.astype('uint16')\n",
    "centriod = np.where(detected_image > max * 0.6, max, min)\n",
    "imageio.imwrite('output/detected_centriod.tif', centriod)"
   ]
  },
  {
   "cell_type": "code",
   "execution_count": 9,
   "metadata": {},
   "outputs": [],
   "source": [
    "# draw a rectangle around detected circle\n",
    "# TODO, boundry conditions needs to be improved\n",
    "# TODO, might use color map to represent results\n",
    "labeled_image = raw_image.copy()\n",
    "for col in range(3, cols - 3):\n",
    "    for row in range(3, rows - 3):\n",
    "        if centriod[row][col] == max:\n",
    "            for i in range(0, 7):\n",
    "                labeled_image[row][col+i] = max\n",
    "                labeled_image[row+6][col+i] = max\n",
    "                labeled_image[row+i][col] = max\n",
    "                labeled_image[row+i][col+6] = max\n",
    "imageio.imwrite('output/labeled_image.tif', labeled_image)"
   ]
  },
  {
   "cell_type": "code",
   "execution_count": null,
   "metadata": {},
   "outputs": [],
   "source": []
  }
 ],
 "metadata": {
  "kernelspec": {
   "display_name": "Python 3",
   "language": "python",
   "name": "python3"
  },
  "language_info": {
   "codemirror_mode": {
    "name": "ipython",
    "version": 3
   },
   "file_extension": ".py",
   "mimetype": "text/x-python",
   "name": "python",
   "nbconvert_exporter": "python",
   "pygments_lexer": "ipython3",
   "version": "3.6.5"
  }
 },
 "nbformat": 4,
 "nbformat_minor": 2
}
